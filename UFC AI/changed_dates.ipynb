{
 "cells": [
  {
   "cell_type": "code",
   "execution_count": 3,
   "metadata": {},
   "outputs": [
    {
     "data": {
      "text/plain": [
       "0      2021-06-12\n",
       "1      2021-06-12\n",
       "2      2020-07-18\n",
       "3      2019-09-21\n",
       "4      2020-07-25\n",
       "          ...    \n",
       "5865   1999-09-24\n",
       "5866   1999-07-16\n",
       "5867   1999-07-16\n",
       "5868   1999-05-07\n",
       "5869   1999-03-05\n",
       "Name: date, Length: 5870, dtype: datetime64[ns]"
      ]
     },
     "execution_count": 3,
     "metadata": {},
     "output_type": "execute_result"
    }
   ],
   "source": [
    "import pandas as pd\n",
    "data = pd.read_pickle('combined_fighter_fights_data.pkl')\n",
    "\n",
    "#pushback dates by 7 days (aka 1 week)\n",
    "data['date'] = data['date'] - pd.DateOffset(days=6)\n",
    "data['date']"
   ]
  },
  {
   "cell_type": "code",
   "execution_count": 4,
   "metadata": {},
   "outputs": [],
   "source": [
    "data.to_pickle(\"data_cleaned_with_fixed_dates.pkl\")"
   ]
  },
  {
   "cell_type": "code",
   "execution_count": null,
   "metadata": {},
   "outputs": [],
   "source": []
  }
 ],
 "metadata": {
  "kernelspec": {
   "display_name": "Python 3.8.5 64-bit ('base': conda)",
   "language": "python",
   "name": "python385jvsc74a57bd0dca0ade3e726a953b501b15e8e990130d2b7799f14cfd9f4271676035ebe5511"
  },
  "language_info": {
   "codemirror_mode": {
    "name": "ipython",
    "version": 3
   },
   "file_extension": ".py",
   "mimetype": "text/x-python",
   "name": "python",
   "nbconvert_exporter": "python",
   "pygments_lexer": "ipython3",
   "version": "3.8.5"
  }
 },
 "nbformat": 4,
 "nbformat_minor": 4
}
