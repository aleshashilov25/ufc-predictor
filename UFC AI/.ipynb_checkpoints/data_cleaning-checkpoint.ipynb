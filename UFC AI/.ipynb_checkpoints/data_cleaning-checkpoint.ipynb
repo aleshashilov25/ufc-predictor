{
 "cells": [
  {
   "cell_type": "code",
   "execution_count": 18,
   "metadata": {},
   "outputs": [],
   "source": [
    "import pandas as pd\n",
    "fighter_data = pd.read_pickle(\"fighter_data.pkl\")\n",
    "fights_data = pd.read_pickle(\"fights_data.pkl\")\n",
    "\n",
    "fights_data_cleaned = pd.concat([fights_data.drop(['stats'], axis=1), fights_data['stats'].apply(pd.Series)], axis=1).drop(['Fighter'], axis=1)\n"
   ]
  },
  {
   "cell_type": "code",
   "execution_count": null,
   "metadata": {},
   "outputs": [],
   "source": []
  }
 ],
 "metadata": {
  "interpreter": {
   "hash": "20bf69066c0dd38d51965b69d5e1b6e387082e3198ba56e97997ac55f4e50ad0"
  },
  "kernelspec": {
   "display_name": "Python 3",
   "language": "python",
   "name": "python3"
  },
  "language_info": {
   "codemirror_mode": {
    "name": "ipython",
    "version": 3
   },
   "file_extension": ".py",
   "mimetype": "text/x-python",
   "name": "python",
   "nbconvert_exporter": "python",
   "pygments_lexer": "ipython3",
   "version": "3.8.5"
  }
 },
 "nbformat": 4,
 "nbformat_minor": 2
}
